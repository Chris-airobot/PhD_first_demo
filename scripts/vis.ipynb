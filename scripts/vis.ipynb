{
 "cells": [
  {
   "cell_type": "code",
   "execution_count": 1,
   "metadata": {},
   "outputs": [],
   "source": [
    "from cv_bridge import CvBridge, CvBridgeError\n",
    "import cv2\n",
    "import rospy\n",
    "import numpy as np\n",
    "from sensor_msgs.msg import Image"
   ]
  },
  {
   "cell_type": "code",
   "execution_count": 15,
   "metadata": {},
   "outputs": [],
   "source": []
  },
  {
   "cell_type": "code",
   "execution_count": 16,
   "metadata": {},
   "outputs": [],
   "source": [
    "\n",
    "\n",
    "\n",
    "def process_image(color_image, left):\n",
    "    hsv_image = cv2.cvtColor(color_image, cv2.COLOR_BGR2HSV)\n",
    "\n",
    "    # Define the HSV range for grey color (adjust as needed)\n",
    "    lower_grey = np.array([0, 0, 50])\n",
    "    upper_grey = np.array([180, 50, 200])\n",
    "\n",
    "    # Create a mask for the grey table\n",
    "    grey_mask = cv2.inRange(hsv_image, lower_grey, upper_grey)\n",
    "\n",
    "    # Invert the grey mask to get the objects\n",
    "    objects_mask = cv2.bitwise_not(grey_mask)\n",
    "\n",
    "    # Create a mask to exclude the fixed base element (adjust as needed)\n",
    "    exclude_mask = np.ones(objects_mask.shape, dtype=np.uint8) * 255\n",
    "    height, width = objects_mask.shape[:2]\n",
    "    \n",
    "    if left:\n",
    "        exclude_mask[:30, width-120:] = 0\n",
    "    else:\n",
    "        exclude_mask[:80, :130] = 0\n",
    "        \n",
    "    # # exclude_mask[:70, :80] = 0  # Left top corner\n",
    "    # exclude_mask[:30, width-120:] = 0  # Right top corner\n",
    "    \n",
    "    # Apply the exclude mask to the objects mask\n",
    "    objects_mask = cv2.bitwise_and(objects_mask, objects_mask, mask=exclude_mask)\n",
    "\n",
    "    text = 'left' if left else 'right'\n",
    "    # Check if there are any objects (non-zero pixels in the objects mask)\n",
    "    if cv2.countNonZero(objects_mask) > 0:\n",
    "        print(f\"Objects detected on the {text} table!\")\n",
    "        # result_image = color_image.copy()\n",
    "        # contours, _ = cv2.findContours(objects_mask, cv2.RETR_EXTERNAL, cv2.CHAIN_APPROX_SIMPLE)\n",
    "        # cv2.drawContours(result_image, contours, -1, (0, 255, 0), 2)\n",
    "        # cv2.imshow('Objects on Table', result_image)\n",
    "        # cv2.waitKey(1)  # Add this line to refresh the window\n",
    "        return True\n",
    "    else:\n",
    "        print(f\"No objects detected on {text} the table.\")\n",
    "        return False"
   ]
  },
  {
   "cell_type": "code",
   "execution_count": 24,
   "metadata": {},
   "outputs": [],
   "source": [
    "rospy.init_node(\"test\")\n",
    "bridge = CvBridge()\n",
    "left_image = rospy.wait_for_message('/left_camera/color/image_raw',Image)\n",
    "right_image = rospy.wait_for_message('/right_camera/color/image_raw',Image)\n",
    "left_color_image = bridge.imgmsg_to_cv2(left_image, \"bgr8\")\n",
    "right_color_image = bridge.imgmsg_to_cv2(right_image, \"bgr8\")"
   ]
  },
  {
   "cell_type": "code",
   "execution_count": 25,
   "metadata": {},
   "outputs": [
    {
     "name": "stdout",
     "output_type": "stream",
     "text": [
      "Objects detected on the right table!\n",
      "Objects detected on the left table!\n"
     ]
    },
    {
     "data": {
      "text/plain": [
       "True"
      ]
     },
     "execution_count": 25,
     "metadata": {},
     "output_type": "execute_result"
    }
   ],
   "source": [
    "process_image(right_color_image, False)\n",
    "process_image(left_color_image, True)\n",
    "\n"
   ]
  },
  {
   "cell_type": "code",
   "execution_count": null,
   "metadata": {},
   "outputs": [],
   "source": []
  }
 ],
 "metadata": {
  "kernelspec": {
   "display_name": "Python 3",
   "language": "python",
   "name": "python3"
  },
  "language_info": {
   "codemirror_mode": {
    "name": "ipython",
    "version": 3
   },
   "file_extension": ".py",
   "mimetype": "text/x-python",
   "name": "python",
   "nbconvert_exporter": "python",
   "pygments_lexer": "ipython3",
   "version": "3.8.10"
  }
 },
 "nbformat": 4,
 "nbformat_minor": 2
}
