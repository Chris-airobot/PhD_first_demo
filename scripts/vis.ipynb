{
 "cells": [
  {
   "cell_type": "markdown",
   "metadata": {},
   "source": []
  },
  {
   "cell_type": "code",
   "execution_count": 1,
   "metadata": {},
   "outputs": [
    {
     "name": "stdout",
     "output_type": "stream",
     "text": [
      "Jupyter environment detected. Enabling Open3D WebVisualizer.\n",
      "[Open3D INFO] WebRTC GUI backend enabled.\n",
      "[Open3D INFO] WebRTCWindowSystem: HTTP handshake server disabled.\n",
      "total time is: 21.02886438369751\n"
     ]
    }
   ],
   "source": [
    "from camera import Camera\n",
    "import time\n",
    "\n",
    "\n",
    "camera = Camera(2)\n",
    "time.sleep(1) #\n",
    "start = time.time()\n",
    "combined_pointcloud = camera.combined_pointcloud()\n",
    "end = time.time()\n",
    "print(f'total time is: {end-start}')"
   ]
  },
  {
   "cell_type": "code",
   "execution_count": 3,
   "metadata": {},
   "outputs": [
    {
     "data": {
      "text/plain": [
       "open3d.cpu.pybind.geometry.PointCloud"
      ]
     },
     "execution_count": 3,
     "metadata": {},
     "output_type": "execute_result"
    }
   ],
   "source": [
    "type(combined_pointcloud)"
   ]
  },
  {
   "cell_type": "code",
   "execution_count": 9,
   "metadata": {},
   "outputs": [],
   "source": [
    "import numpy as np\n",
    "from std_msgs.msg import Header\n",
    "import rospy\n",
    "import sensor_msgs.point_cloud2 as pc2\n",
    "from sensor_msgs.msg import PointField\n",
    "\n",
    "FIELDS_XYZ = [\n",
    "    PointField(name='x', offset=0, datatype=PointField.FLOAT32, count=1),\n",
    "    PointField(name='y', offset=4, datatype=PointField.FLOAT32, count=1),\n",
    "    PointField(name='z', offset=8, datatype=PointField.FLOAT32, count=1),\n",
    "]\n",
    "FIELDS_XYZRGB = FIELDS_XYZ + \\\n",
    "    [PointField(name='rgb', offset=12, datatype=PointField.FLOAT32, count=1)]\n",
    "\n",
    "# Bit operations\n",
    "BIT_MOVE_16 = 2**16\n",
    "BIT_MOVE_8 = 2**8"
   ]
  },
  {
   "cell_type": "code",
   "execution_count": 10,
   "metadata": {},
   "outputs": [],
   "source": [
    "# Convert the datatype of point cloud from Open3D to ROS PointCloud2 (XYZRGB only)\n",
    "def convertCloudFromOpen3dToRos(open3d_cloud, frame_id=\"map\"):\n",
    "    # Set \"header\"\n",
    "    header = Header()\n",
    "    header.stamp = rospy.Time.now()\n",
    "    header.frame_id = frame_id\n",
    "\n",
    "    # Set \"fields\" and \"cloud_data\"\n",
    "    points=np.asarray(open3d_cloud.points)\n",
    "    if not open3d_cloud.colors: # XYZ only\n",
    "        fields=FIELDS_XYZ\n",
    "        cloud_data=points\n",
    "    else: # XYZ + RGB\n",
    "        fields=FIELDS_XYZRGB\n",
    "        # -- Change rgb color from \"three float\" to \"one 24-byte int\"\n",
    "        # 0x00FFFFFF is white, 0x00000000 is black.\n",
    "        colors = np.floor(np.asarray(open3d_cloud.colors)*255)\n",
    "        colors = colors.astype(np.uint32)\n",
    "        colors = colors[:,2] * BIT_MOVE_16 +colors[:,1] * BIT_MOVE_8 + colors[:,1]  \n",
    "        colors = colors.view(np.float32)\n",
    "        cloud_data = [tuple((*p, c)) for p, c in zip(points, colors)]\n",
    "    # create ros_cloud\n",
    "    return pc2.create_cloud(header, fields, cloud_data)"
   ]
  },
  {
   "cell_type": "code",
   "execution_count": 11,
   "metadata": {},
   "outputs": [],
   "source": [
    "rospy.init_node('test')\n",
    "output = convertCloudFromOpen3dToRos(combined_pointcloud, 'base_link')"
   ]
  },
  {
   "cell_type": "code",
   "execution_count": 1,
   "metadata": {},
   "outputs": [
    {
     "name": "stdout",
     "output_type": "stream",
     "text": [
      "Jupyter environment detected. Enabling Open3D WebVisualizer.\n",
      "[Open3D INFO] WebRTC GUI backend enabled.\n",
      "[Open3D INFO] WebRTCWindowSystem: HTTP handshake server disabled.\n",
      "[INFO] [1719544418.006713]: Using robot_name kinova_gen3_lite , robot has 6 degrees of freedom and is_gripper_present is True\n",
      "[INFO] [1719544418.017489]: Activating the action notifications...\n",
      "[INFO] [1719544418.040405]: Successfully activated the Action Notifications!\n",
      "[INFO] [1719544419.042615]: ------- You are now in Real Robot Case -------\n"
     ]
    }
   ],
   "source": [
    "from main import FirstDemo\n",
    "grasper = FirstDemo()\n"
   ]
  },
  {
   "cell_type": "code",
   "execution_count": 2,
   "metadata": {},
   "outputs": [
    {
     "ename": "TypeError",
     "evalue": "Invalid number of arguments, args should be ['header', 'height', 'width', 'fields', 'is_bigendian', 'point_step', 'row_step', 'data', 'is_dense'] args are(PointCloud with 16320 points.,)",
     "output_type": "error",
     "traceback": [
      "\u001b[0;31m---------------------------------------------------------------------------\u001b[0m",
      "\u001b[0;31mTypeError\u001b[0m                                 Traceback (most recent call last)",
      "Cell \u001b[0;32mIn[2], line 1\u001b[0m\n\u001b[0;32m----> 1\u001b[0m \u001b[43mgrasper\u001b[49m\u001b[38;5;241;43m.\u001b[39;49m\u001b[43mmain\u001b[49m\u001b[43m(\u001b[49m\u001b[43m)\u001b[49m\n",
      "File \u001b[0;32m~/kinova_gen3_lite/src/first_demo/scripts/main.py:95\u001b[0m, in \u001b[0;36mFirstDemo.main\u001b[0;34m(self)\u001b[0m\n\u001b[1;32m     92\u001b[0m \u001b[38;5;66;03m# Get the point cloud data of the object\u001b[39;00m\n\u001b[1;32m     93\u001b[0m pcd \u001b[38;5;241m=\u001b[39m \u001b[38;5;28mself\u001b[39m\u001b[38;5;241m.\u001b[39mscan_object()\n\u001b[0;32m---> 95\u001b[0m \u001b[38;5;28;43mself\u001b[39;49m\u001b[38;5;241;43m.\u001b[39;49m\u001b[43mget_grasps_pub\u001b[49m\u001b[38;5;241;43m.\u001b[39;49m\u001b[43mpublish\u001b[49m\u001b[43m(\u001b[49m\u001b[43mpcd\u001b[49m\u001b[43m)\u001b[49m\n\u001b[1;32m     98\u001b[0m \u001b[38;5;66;03m# Just wait for the grasping, while the callback function is running at the back\u001b[39;00m\n\u001b[1;32m     99\u001b[0m \u001b[38;5;28;01mwhile\u001b[39;00m (\n\u001b[1;32m    100\u001b[0m     \u001b[38;5;28mself\u001b[39m\u001b[38;5;241m.\u001b[39mgrasp_list \u001b[38;5;129;01mis\u001b[39;00m \u001b[38;5;28;01mNone\u001b[39;00m\n\u001b[1;32m    101\u001b[0m     \u001b[38;5;129;01mand\u001b[39;00m rospy\u001b[38;5;241m.\u001b[39mTime\u001b[38;5;241m.\u001b[39mnow() \u001b[38;5;241m-\u001b[39m start_time \u001b[38;5;241m<\u001b[39m \u001b[38;5;28mself\u001b[39m\u001b[38;5;241m.\u001b[39mgrasp_process_timeout\n\u001b[1;32m    102\u001b[0m ):\n",
      "File \u001b[0;32m/opt/ros/noetic/lib/python3/dist-packages/rospy/topics.py:879\u001b[0m, in \u001b[0;36mPublisher.publish\u001b[0;34m(self, *args, **kwds)\u001b[0m\n\u001b[1;32m    877\u001b[0m \u001b[38;5;28;01mif\u001b[39;00m \u001b[38;5;129;01mnot\u001b[39;00m is_initialized():\n\u001b[1;32m    878\u001b[0m     \u001b[38;5;28;01mraise\u001b[39;00m ROSException(\u001b[38;5;124m\"\u001b[39m\u001b[38;5;124mROS node has not been initialized yet. Please call init_node() first\u001b[39m\u001b[38;5;124m\"\u001b[39m)\n\u001b[0;32m--> 879\u001b[0m data \u001b[38;5;241m=\u001b[39m \u001b[43margs_kwds_to_message\u001b[49m\u001b[43m(\u001b[49m\u001b[38;5;28;43mself\u001b[39;49m\u001b[38;5;241;43m.\u001b[39;49m\u001b[43mdata_class\u001b[49m\u001b[43m,\u001b[49m\u001b[43m \u001b[49m\u001b[43margs\u001b[49m\u001b[43m,\u001b[49m\u001b[43m \u001b[49m\u001b[43mkwds\u001b[49m\u001b[43m)\u001b[49m\n\u001b[1;32m    880\u001b[0m \u001b[38;5;28;01mtry\u001b[39;00m:\n\u001b[1;32m    881\u001b[0m     \u001b[38;5;28mself\u001b[39m\u001b[38;5;241m.\u001b[39mimpl\u001b[38;5;241m.\u001b[39macquire()\n",
      "File \u001b[0;32m/opt/ros/noetic/lib/python3/dist-packages/rospy/msg.py:122\u001b[0m, in \u001b[0;36margs_kwds_to_message\u001b[0;34m(data_class, args, kwds)\u001b[0m\n\u001b[1;32m    120\u001b[0m         \u001b[38;5;28;01melif\u001b[39;00m arg\u001b[38;5;241m.\u001b[39m_type \u001b[38;5;241m!=\u001b[39m data_class\u001b[38;5;241m.\u001b[39m_slot_types[\u001b[38;5;241m0\u001b[39m]:\n\u001b[1;32m    121\u001b[0m             \u001b[38;5;28;01mraise\u001b[39;00m \u001b[38;5;167;01mTypeError\u001b[39;00m(\u001b[38;5;124m\"\u001b[39m\u001b[38;5;124mexpected [\u001b[39m\u001b[38;5;132;01m%s\u001b[39;00m\u001b[38;5;124m] but got [\u001b[39m\u001b[38;5;132;01m%s\u001b[39;00m\u001b[38;5;124m]\u001b[39m\u001b[38;5;124m\"\u001b[39m\u001b[38;5;241m%\u001b[39m(data_class\u001b[38;5;241m.\u001b[39m_slot_types[\u001b[38;5;241m0\u001b[39m], arg\u001b[38;5;241m.\u001b[39m_type))\n\u001b[0;32m--> 122\u001b[0m     \u001b[38;5;28;01mreturn\u001b[39;00m \u001b[43mdata_class\u001b[49m\u001b[43m(\u001b[49m\u001b[38;5;241;43m*\u001b[39;49m\u001b[43margs\u001b[49m\u001b[43m)\u001b[49m\n\u001b[1;32m    123\u001b[0m \u001b[38;5;28;01melse\u001b[39;00m:\n\u001b[1;32m    124\u001b[0m     \u001b[38;5;28;01mreturn\u001b[39;00m data_class(\u001b[38;5;241m*\u001b[39margs)\n",
      "File \u001b[0;32m/opt/ros/noetic/lib/python3/dist-packages/sensor_msgs/msg/_PointCloud2.py:96\u001b[0m, in \u001b[0;36mPointCloud2.__init__\u001b[0;34m(self, *args, **kwds)\u001b[0m\n\u001b[1;32m     82\u001b[0m \u001b[38;5;250m\u001b[39m\u001b[38;5;124;03m\"\"\"\u001b[39;00m\n\u001b[1;32m     83\u001b[0m \u001b[38;5;124;03mConstructor. Any message fields that are implicitly/explicitly\u001b[39;00m\n\u001b[1;32m     84\u001b[0m \u001b[38;5;124;03mset to None will be assigned a default value. The recommend\u001b[39;00m\n\u001b[0;32m   (...)\u001b[0m\n\u001b[1;32m     93\u001b[0m \u001b[38;5;124;03mto set specific fields.\u001b[39;00m\n\u001b[1;32m     94\u001b[0m \u001b[38;5;124;03m\"\"\"\u001b[39;00m\n\u001b[1;32m     95\u001b[0m \u001b[38;5;28;01mif\u001b[39;00m args \u001b[38;5;129;01mor\u001b[39;00m kwds:\n\u001b[0;32m---> 96\u001b[0m   \u001b[38;5;28;43msuper\u001b[39;49m\u001b[43m(\u001b[49m\u001b[43mPointCloud2\u001b[49m\u001b[43m,\u001b[49m\u001b[43m \u001b[49m\u001b[38;5;28;43mself\u001b[39;49m\u001b[43m)\u001b[49m\u001b[38;5;241;43m.\u001b[39;49m\u001b[38;5;21;43m__init__\u001b[39;49m\u001b[43m(\u001b[49m\u001b[38;5;241;43m*\u001b[39;49m\u001b[43margs\u001b[49m\u001b[43m,\u001b[49m\u001b[43m \u001b[49m\u001b[38;5;241;43m*\u001b[39;49m\u001b[38;5;241;43m*\u001b[39;49m\u001b[43mkwds\u001b[49m\u001b[43m)\u001b[49m\n\u001b[1;32m     97\u001b[0m   \u001b[38;5;66;03m# message fields cannot be None, assign default values for those that are\u001b[39;00m\n\u001b[1;32m     98\u001b[0m   \u001b[38;5;28;01mif\u001b[39;00m \u001b[38;5;28mself\u001b[39m\u001b[38;5;241m.\u001b[39mheader \u001b[38;5;129;01mis\u001b[39;00m \u001b[38;5;28;01mNone\u001b[39;00m:\n",
      "File \u001b[0;32m/opt/ros/noetic/lib/python3/dist-packages/genpy/message.py:354\u001b[0m, in \u001b[0;36mMessage.__init__\u001b[0;34m(self, *args, **kwds)\u001b[0m\n\u001b[1;32m    352\u001b[0m \u001b[38;5;28;01mif\u001b[39;00m args:\n\u001b[1;32m    353\u001b[0m     \u001b[38;5;28;01mif\u001b[39;00m \u001b[38;5;28mlen\u001b[39m(args) \u001b[38;5;241m!=\u001b[39m \u001b[38;5;28mlen\u001b[39m(\u001b[38;5;28mself\u001b[39m\u001b[38;5;241m.\u001b[39m\u001b[38;5;18m__slots__\u001b[39m):\n\u001b[0;32m--> 354\u001b[0m         \u001b[38;5;28;01mraise\u001b[39;00m \u001b[38;5;167;01mTypeError\u001b[39;00m(\u001b[38;5;124m'\u001b[39m\u001b[38;5;124mInvalid number of arguments, args should be \u001b[39m\u001b[38;5;132;01m%s\u001b[39;00m\u001b[38;5;124m'\u001b[39m \u001b[38;5;241m%\u001b[39m \u001b[38;5;28mstr\u001b[39m(\u001b[38;5;28mself\u001b[39m\u001b[38;5;241m.\u001b[39m\u001b[38;5;18m__slots__\u001b[39m) \u001b[38;5;241m+\u001b[39m \u001b[38;5;124m'\u001b[39m\u001b[38;5;124m args are\u001b[39m\u001b[38;5;124m'\u001b[39m \u001b[38;5;241m+\u001b[39m \u001b[38;5;28mstr\u001b[39m(args))\n\u001b[1;32m    355\u001b[0m     \u001b[38;5;28;01mfor\u001b[39;00m i, k \u001b[38;5;129;01min\u001b[39;00m \u001b[38;5;28menumerate\u001b[39m(\u001b[38;5;28mself\u001b[39m\u001b[38;5;241m.\u001b[39m\u001b[38;5;18m__slots__\u001b[39m):\n\u001b[1;32m    356\u001b[0m         \u001b[38;5;28msetattr\u001b[39m(\u001b[38;5;28mself\u001b[39m, k, args[i])\n",
      "\u001b[0;31mTypeError\u001b[0m: Invalid number of arguments, args should be ['header', 'height', 'width', 'fields', 'is_bigendian', 'point_step', 'row_step', 'data', 'is_dense'] args are(PointCloud with 16320 points.,)"
     ]
    }
   ],
   "source": [
    "grasper.main()"
   ]
  },
  {
   "cell_type": "code",
   "execution_count": null,
   "metadata": {},
   "outputs": [],
   "source": []
  }
 ],
 "metadata": {
  "kernelspec": {
   "display_name": "Python 3",
   "language": "python",
   "name": "python3"
  },
  "language_info": {
   "codemirror_mode": {
    "name": "ipython",
    "version": 3
   },
   "file_extension": ".py",
   "mimetype": "text/x-python",
   "name": "python",
   "nbconvert_exporter": "python",
   "pygments_lexer": "ipython3",
   "version": "3.8.10"
  }
 },
 "nbformat": 4,
 "nbformat_minor": 2
}
